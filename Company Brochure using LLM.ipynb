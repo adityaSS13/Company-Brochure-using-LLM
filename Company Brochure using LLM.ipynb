{
 "cells": [
  {
   "cell_type": "code",
   "execution_count": 1,
   "id": "2b603ec8-0f0b-4628-ab80-e00afeebde18",
   "metadata": {},
   "outputs": [],
   "source": [
    "# imports\n",
    "# If these fail, please check you're running from an 'activated' environment with (llms) in the command prompt\n",
    "\n",
    "import os\n",
    "import requests\n",
    "import json\n",
    "from typing import List\n",
    "from dotenv import load_dotenv\n",
    "from bs4 import BeautifulSoup\n",
    "from IPython.display import Markdown, display, update_display\n",
    "from openai import OpenAI"
   ]
  },
  {
   "cell_type": "code",
   "execution_count": 2,
   "id": "172f6a5c-a23f-40e7-94b3-88c046ffcfa0",
   "metadata": {},
   "outputs": [
    {
     "name": "stdout",
     "output_type": "stream",
     "text": [
      "API key looks good so far\n"
     ]
    }
   ],
   "source": [
    "# Initialize and constants\n",
    "\n",
    "load_dotenv(override=True)\n",
    "api_key = os.getenv('OPENAI_API_KEY')\n",
    "\n",
    "if api_key and api_key.startswith('sk-proj-') and len(api_key)>10:\n",
    "    print(\"API key looks good so far\")\n",
    "else:\n",
    "    print(\"There might be a problem with your API key? Please visit the troubleshooting notebook!\")\n",
    "    \n",
    "MODEL = 'gpt-4o-mini'\n",
    "openai = OpenAI()"
   ]
  },
  {
   "cell_type": "code",
   "execution_count": 4,
   "id": "59b2346a-738d-4522-8c6e-05374e817bca",
   "metadata": {},
   "outputs": [],
   "source": [
    "# A class to represent a Webpage\n",
    "\n",
    "# Some websites require using proper headers when fetching them:\n",
    "headers = {\n",
    " \"User-Agent\": \"Mozilla/5.0 (Windows NT 10.0; Win64; x64) AppleWebKit/537.36 (KHTML, like Gecko) Chrome/117.0.0.0 Safari/537.36\"\n",
    "}\n",
    "\n",
    "class Website:\n",
    "    \"\"\"\n",
    "    A utility class to represent a Website that we have scraped, now with links\n",
    "    \"\"\"\n",
    "\n",
    "    def __init__(self, url):\n",
    "        self.url = url\n",
    "        response = requests.get(url, headers=headers)\n",
    "        self.body = response.content\n",
    "        soup = BeautifulSoup(self.body, 'html.parser')\n",
    "        self.title = soup.title.string if soup.title else \"No title found\"\n",
    "        if soup.body:\n",
    "            for irrelevant in soup.body([\"script\", \"style\", \"img\", \"input\"]):\n",
    "                irrelevant.decompose()\n",
    "            self.text = soup.body.get_text(separator=\"\\n\", strip=True)\n",
    "        else:\n",
    "            self.text = \"\"\n",
    "        links = [link.get('href') for link in soup.find_all('a')]\n",
    "        self.links = [link for link in links if link]\n",
    "\n",
    "    def get_contents(self):\n",
    "        return f\"Webpage Title:\\n{self.title}\\nWebpage Contents:\\n{self.text}\\n\\n\""
   ]
  },
  {
   "cell_type": "markdown",
   "id": "4a868961-4e54-421a-92e7-ae8e450646b3",
   "metadata": {},
   "source": [
    "## First step: Have GPT-4o-mini figure out which links are relevant\n",
    "\n",
    "### Use a call to gpt-4o-mini to read the links on a webpage, and respond in structured JSON.  \n",
    "It should decide which links are relevant, and replace relative links such as \"/about\" with \"https://company.com/about\".  \n",
    "We will use \"one shot prompting\" in which we provide an example of how it should respond in the prompt.\n",
    "This is an excellent use case for an LLM, because it requires nuanced understanding."
   ]
  },
  {
   "cell_type": "code",
   "execution_count": 16,
   "id": "cd2ad0e3-97cf-41c7-9c38-fe08c14419a1",
   "metadata": {},
   "outputs": [],
   "source": [
    "link_system_prompt = \"You are provided with a list of links found on a webpage. \\\n",
    "You are able to decide which of the links would be most relevant to include in a brochure about the company, \\\n",
    "such as links to an About page, or a Company page, or Careers/Jobs pages.\\n\"\n",
    "link_system_prompt += \"You should respond in JSON as in this example:\"\n",
    "link_system_prompt += \"\"\"\n",
    "{\n",
    "    \"links\": [\n",
    "        {\"type\": \"about page\", \"url\": \"https://full.url/goes/here/about\"},\n",
    "        {\"type\": \"careers page\", \"url\": \"https://another.full.url/careers\"}\n",
    "    ]\n",
    "}\n",
    "\"\"\"\n",
    "#print(link_system_prompt)\n",
    "# An example of one-shot prompting"
   ]
  },
  {
   "cell_type": "code",
   "execution_count": 6,
   "id": "c5708774-f237-4e68-be0a-df32728018b0",
   "metadata": {},
   "outputs": [],
   "source": [
    "def get_links_user_prompt(website):\n",
    "    user_prompt = f\"Here is the list of links on the website of {website.url} - \"\n",
    "    user_prompt += \"please decide which of these are relevant web links for a brochure about the company, respond with the full https URL in JSON format. \\\n",
    "Do not include Terms of Service, Privacy, email links.\\n\"\n",
    "    user_prompt += \"Links (some might be relative links):\\n\"\n",
    "    user_prompt += \"\\n\".join(website.links)\n",
    "    return user_prompt"
   ]
  },
  {
   "cell_type": "code",
   "execution_count": 8,
   "id": "28ac0dc9-9497-42b1-9805-ac37c7c70d72",
   "metadata": {},
   "outputs": [],
   "source": [
    "def get_links(url):\n",
    "    website = Website(url)\n",
    "    response = openai.chat.completions.create(\n",
    "        model=MODEL,\n",
    "        messages=[\n",
    "            {\"role\": \"system\", \"content\": link_system_prompt},\n",
    "            {\"role\": \"user\", \"content\": get_links_user_prompt(website)}\n",
    "      ],\n",
    "        response_format={\"type\": \"json_object\"}\n",
    "    )\n",
    "    result = response.choices[0].message.content\n",
    "    return json.loads(result)"
   ]
  },
  {
   "cell_type": "markdown",
   "id": "55d1e576-08f9-43e6-ace1-ba784a3b7245",
   "metadata": {},
   "source": [
    "- https://platform.openai.com/docs/guides/migrate-to-responses\n",
    "- The new 'Responses' API could be tried as well, instead of the older 'Chat Completions' API\n",
    "\n",
    "### Chat Completions API:\n",
    "```\n",
    "from openai import OpenAI\n",
    "client = OpenAI()\n",
    "\n",
    "completion = client.chat.completions.create(\n",
    "  model=\"gpt-5\",\n",
    "  messages=[\n",
    "    {\n",
    "      \"role\": \"user\",\n",
    "      \"content\": \"Write a one-sentence bedtime story about a unicorn.\"\n",
    "    }\n",
    "  ]\n",
    ")\n",
    "print(completion.choices[0].message.content)\n",
    "```\n",
    "\n",
    "### Responses API equivalent:\n",
    "```\n",
    "from openai import OpenAI\n",
    "client = OpenAI()\n",
    "\n",
    "response = client.responses.create(\n",
    "  model=\"gpt-5\",\n",
    "  input=\"Write a one-sentence bedtime story about a unicorn.\"\n",
    ")\n",
    "\n",
    "print(response.output_text)\n",
    "```"
   ]
  },
  {
   "cell_type": "code",
   "execution_count": 9,
   "id": "6e40b418-e5e9-4a48-9984-855caf10b57e",
   "metadata": {},
   "outputs": [],
   "source": [
    "#Can try this:\n",
    "#huggingface = Website(\"https://huggingface.co\")\n",
    "#huggingface.links"
   ]
  },
  {
   "cell_type": "markdown",
   "id": "2cf65a4d-0f43-420f-95a3-1958e320b504",
   "metadata": {},
   "source": [
    "## Second step: make the brochure!\n",
    "\n",
    "Assemble all the details into another prompt to GPT4-o"
   ]
  },
  {
   "cell_type": "code",
   "execution_count": 10,
   "id": "69052c18-f0c1-47df-865a-f1b359546c07",
   "metadata": {},
   "outputs": [],
   "source": [
    "def get_all_details(url):\n",
    "    result = \"Landing page:\\n\"\n",
    "    result += Website(url).get_contents()\n",
    "    links = get_links(url)\n",
    "    print(\"Found links:\", links)\n",
    "    for link in links[\"links\"]:\n",
    "        result += f\"\\n\\n{link['type']}\\n\"\n",
    "        result += Website(link[\"url\"]).get_contents()\n",
    "    return result\n",
    "\n",
    "#print(get_all_details(\"https://huggingface.co\")"
   ]
  },
  {
   "cell_type": "code",
   "execution_count": 11,
   "id": "fafa2984-2164-4c22-9275-80a845ad5b99",
   "metadata": {},
   "outputs": [],
   "source": [
    "system_prompt = \"You are an assistant that analyzes the contents of several relevant pages from a company website \\\n",
    "and creates a short brochure about the company for prospective customers, investors and recruits. Respond in markdown.\\\n",
    "Include details of company culture, customers and careers/jobs if you have the information.\"\n",
    "\n",
    "# Or uncomment the lines below for a more humorous brochure - this demonstrates how easy it is to incorporate 'tone':\n",
    "\n",
    "# system_prompt = \"You are an assistant that analyzes the contents of several relevant pages from a company website \\\n",
    "# and creates a short humorous, entertaining, jokey brochure about the company for prospective customers, investors and recruits. Respond in markdown.\\\n",
    "# Include details of company culture, customers and careers/jobs if you have the information.\""
   ]
  },
  {
   "cell_type": "code",
   "execution_count": 13,
   "id": "95684f3f-b1c1-4fce-9b43-bd5ab56296a8",
   "metadata": {},
   "outputs": [],
   "source": [
    "def get_brochure_user_prompt(company_name, url):\n",
    "    user_prompt = f\"You are looking at a company called: {company_name}\\n\"\n",
    "    user_prompt += f\"Here are the contents of its landing page and other relevant pages; use this information to build a short brochure of the company in markdown.\\n\"\n",
    "    user_prompt += get_all_details(url)\n",
    "    user_prompt = user_prompt[:5_000] # Truncate if more than 5,000 characters\n",
    "    return user_prompt\n",
    "\n",
    "# get_brochure_user_prompt(\"HuggingFace\", \"https://huggingface.co\")"
   ]
  },
  {
   "cell_type": "code",
   "execution_count": 14,
   "id": "ad964ea6-5d4c-4069-90ed-0bb9b6bf2b2e",
   "metadata": {},
   "outputs": [],
   "source": [
    "def create_brochure(company_name, url):\n",
    "    response = openai.chat.completions.create(\n",
    "        model=MODEL,\n",
    "        messages=[\n",
    "            {\"role\": \"system\", \"content\": system_prompt},\n",
    "            {\"role\": \"user\", \"content\": get_brochure_user_prompt(company_name, url)}\n",
    "          ],\n",
    "    )\n",
    "    result = response.choices[0].message.content\n",
    "    display(Markdown(result))"
   ]
  },
  {
   "cell_type": "code",
   "execution_count": 15,
   "id": "1e599ba0-6681-4bdb-a783-b730fb68ca5c",
   "metadata": {},
   "outputs": [
    {
     "name": "stdout",
     "output_type": "stream",
     "text": [
      "Found links: {'links': [{'type': 'about page', 'url': 'https://huggingface.co/huggingface'}, {'type': 'careers page', 'url': 'https://apply.workable.com/huggingface/'}, {'type': 'blog', 'url': 'https://huggingface.co/blog'}, {'type': 'company profile', 'url': 'https://www.linkedin.com/company/huggingface/'}, {'type': 'community page', 'url': 'https://discuss.huggingface.co'}, {'type': 'GitHub page', 'url': 'https://github.com/huggingface'}]}\n"
     ]
    },
    {
     "data": {
      "text/markdown": [
       "# Hugging Face Company Brochure\n",
       "\n",
       "**Welcome to Hugging Face – The AI Community Building the Future!**\n",
       "\n",
       "## Who We Are\n",
       "Hugging Face is a leading platform that fosters collaboration among the machine learning community. With a focus on transparency, innovation, and community engagement, we empower users to create, discover, and share cutting-edge AI models, datasets, and applications. \n",
       "\n",
       "## Our Offerings\n",
       "- **Models**: Access over 1 million models, including state-of-the-art AI solutions such as transformers and diffusers.\n",
       "- **Datasets**: Browse more than 250,000 datasets designed to cater to various machine learning tasks.\n",
       "- **Spaces**: An interactive environment where users can run applications and collaborate on shared projects.\n",
       "- **Enterprise Solutions**: Our tailored offerings for businesses include advanced compute options and enterprise-grade tools.\n",
       "\n",
       "## Customers\n",
       "Join over 50,000 organizations, including industry leaders like Google, Microsoft, Amazon, and Meta. Our platform is the go-to place for researchers, innovators, and enterprises looking to leverage machine learning technologies.\n",
       "\n",
       "## Careers & Company Culture\n",
       "At Hugging Face, we prioritize a diverse, inclusive workplace where creativity thrives. Our team is made up of passionate individuals who are not just employees but contributors to the broader AI community. We look for talent that shares our vision of making AI accessible and useful for everyone. \n",
       "\n",
       "**Why Join Us?**\n",
       "- Work alongside experts in AI and machine learning.\n",
       "- Contribute to open-source projects that are shaping the future.\n",
       "- Access competitive benefits and a supportive work environment that encourages continuous learning.\n",
       "\n",
       "## Join the Community\n",
       "Be part of the AI transformation! Sign up today to start your journey with Hugging Face.\n",
       "\n",
       "**Connect With Us**\n",
       "- [GitHub](https://github.com/huggingface)\n",
       "- [Twitter](https://twitter.com/huggingface)\n",
       "- [LinkedIn](https://www.linkedin.com/company/huggingface/)\n",
       "- [Discord](https://huggingface.co/discord)\n",
       "\n",
       "**Start Exploring**: Systems designed for everyone from beginners to experts – let’s innovate together!\n",
       "\n",
       "---\n",
       "\n",
       "**Hugging Face: Together, Building Tomorrow's AI Today!**"
      ],
      "text/plain": [
       "<IPython.core.display.Markdown object>"
      ]
     },
     "metadata": {},
     "output_type": "display_data"
    }
   ],
   "source": [
    "create_brochure(\"HuggingFace\", \"https://huggingface.co\")"
   ]
  },
  {
   "cell_type": "markdown",
   "id": "5e0f86c5-a087-4cf9-a97e-554ca3bd9333",
   "metadata": {},
   "source": [
    "# With a small adjustment, we can change this so that the results stream back from OpenAI, with the familiar typewriter animation"
   ]
  },
  {
   "cell_type": "code",
   "execution_count": 17,
   "id": "19074491-2c36-4ac4-af1c-9c1808381de0",
   "metadata": {},
   "outputs": [],
   "source": [
    "def stream_brochure(company_name, url):\n",
    "    stream = openai.chat.completions.create(\n",
    "        model=MODEL,\n",
    "        messages=[\n",
    "            {\"role\": \"system\", \"content\": system_prompt},\n",
    "            {\"role\": \"user\", \"content\": get_brochure_user_prompt(company_name, url)}\n",
    "          ],\n",
    "        stream=True\n",
    "    )\n",
    "    \n",
    "    response = \"\"\n",
    "    display_handle = display(Markdown(\"\"), display_id=True)\n",
    "    for chunk in stream:\n",
    "        response += chunk.choices[0].delta.content or ''\n",
    "        response = response.replace(\"```\",\"\").replace(\"markdown\", \"\")\n",
    "        update_display(Markdown(response), display_id=display_handle.display_id)"
   ]
  },
  {
   "cell_type": "code",
   "execution_count": 18,
   "id": "85263597-8c44-4720-83c1-442141df0f59",
   "metadata": {},
   "outputs": [
    {
     "name": "stdout",
     "output_type": "stream",
     "text": [
      "Found links: {'links': [{'type': 'about page', 'url': 'https://huggingface.co/huggingface'}, {'type': 'careers page', 'url': 'https://apply.workable.com/huggingface/'}, {'type': 'blog page', 'url': 'https://huggingface.co/blog'}, {'type': 'company page', 'url': 'https://huggingface.co/enterprise'}, {'type': 'models page', 'url': 'https://huggingface.co/models'}, {'type': 'datasets page', 'url': 'https://huggingface.co/datasets'}, {'type': 'spaces page', 'url': 'https://huggingface.co/spaces'}, {'type': 'documentation page', 'url': 'https://huggingface.co/docs'}]}\n"
     ]
    },
    {
     "data": {
      "text/markdown": [
       "# Hugging Face Brochure\n",
       "\n",
       "---\n",
       "\n",
       "## Overview\n",
       "\n",
       "**Hugging Face** is leading the charge in building a collaborative AI community focused on innovating the future through machine learning (ML). With a robust platform that hosts over **1 million models**, enormous datasets, and countless applications, it serves as the home for the machine learning community.\n",
       "\n",
       "### Mission\n",
       "\n",
       "Our mission is to empower everyone with machine learning capabilities, fostering a collaborative environment where individuals and organizations can build, share, and improve upon AI models and applications.\n",
       "\n",
       "---\n",
       "\n",
       "## What We Offer\n",
       "\n",
       "### Collaboration Platform\n",
       "\n",
       "- **Models**: Access a diverse set of **1M+ models** created and shared by the community.\n",
       "- **Datasets**: Browse through over **250k+ datasets** tailored for various ML tasks.\n",
       "- **Spaces**: Discover engaging applications that utilize advanced machine learning methods.\n",
       "\n",
       "### Enterprise Solutions\n",
       "\n",
       "- Enterprise-grade solutions featuring high-level security, dedicated support, and access control.\n",
       "- Competitive pricing starting at **$20/user/month** with the compute options beginning at **$0.60/hour**.\n",
       "\n",
       "### Open Source Commitment\n",
       "\n",
       "At Hugging Face, we believe in the power of open-source technology. Our offerings include:\n",
       "\n",
       "- **Transformers**: State-of-the-art AI models for PyTorch.\n",
       "- **Tokenizers**: Fast and efficient tokenization for both research and production environments.\n",
       "- **Diffusers** and much more.\n",
       "\n",
       "---\n",
       "\n",
       "## Customer Base\n",
       "\n",
       "More than **50,000 organizations** leverage the Hugging Face platform, including major players like:\n",
       "\n",
       "- **Meta**\n",
       "- **Amazon**\n",
       "- **Google**\n",
       "- **Microsoft**\n",
       "- **AI2**\n",
       "\n",
       "Our community includes enterprise clients, non-profits, and individual practitioners contributing to revolutionary research and deployment of ML technology.\n",
       "\n",
       "---\n",
       "\n",
       "## Company Culture\n",
       "\n",
       "At Hugging Face, we're not just building AI; we’re cultivating a thriving community of innovators and passionate contributors. We prioritize:\n",
       "\n",
       "- **Inclusivity**: Welcoming all backgrounds and skill levels.\n",
       "- **Collaboration**: Working together to push the boundaries of what's possible in AI.\n",
       "- **Open-Source Ethics**: Creating tools and resources that anyone can access and use.\n",
       "\n",
       "---\n",
       "\n",
       "## Careers at Hugging Face\n",
       "\n",
       "We are constantly looking for talented individuals who are committed to shaping the future of AI. Joining us means being part of a dynamic force in machine learning, where:\n",
       "\n",
       "- Creativity is encouraged.\n",
       "- Professional growth is supported.\n",
       "- Diversity and inclusion are held as core values.\n",
       "\n",
       "Explore available job opportunities and become part of our transformative journey in the AI landscape.\n",
       "\n",
       "---\n",
       "\n",
       "## Join Us!\n",
       "\n",
       "Whether you're an AI enthusiast, investor looking for the next big thing, or a professional seeking your next career opportunity, Hugging Face welcomes you to explore and collaborate in a unique and impactful environment.\n",
       "\n",
       "### [Visit Us](https://huggingface.co) to learn more!\n",
       "\n",
       "--- \n",
       "\n",
       "**Hugging Face – The AI Community Building the Future.**"
      ],
      "text/plain": [
       "<IPython.core.display.Markdown object>"
      ]
     },
     "metadata": {},
     "output_type": "display_data"
    }
   ],
   "source": [
    "stream_brochure(\"HuggingFace\", \"https://huggingface.co\")"
   ]
  },
  {
   "cell_type": "code",
   "execution_count": null,
   "id": "57cdbd08-392d-4052-b1f9-fde040dc8542",
   "metadata": {},
   "outputs": [],
   "source": []
  }
 ],
 "metadata": {
  "kernelspec": {
   "display_name": "Python 3 (ipykernel)",
   "language": "python",
   "name": "python3"
  },
  "language_info": {
   "codemirror_mode": {
    "name": "ipython",
    "version": 3
   },
   "file_extension": ".py",
   "mimetype": "text/x-python",
   "name": "python",
   "nbconvert_exporter": "python",
   "pygments_lexer": "ipython3",
   "version": "3.11.13"
  }
 },
 "nbformat": 4,
 "nbformat_minor": 5
}
